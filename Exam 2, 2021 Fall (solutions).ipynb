{
 "cells": [
  {
   "cell_type": "markdown",
   "metadata": {},
   "source": [
    "# Exam 2, Fall 2021 (100 pts total)\n",
    "\n",
    "files needed = ('pl.csv', 'nval.csv', 'wdi_q4.csv') which can be found in `exam2_f21s1_data.zip`\n",
    "\n",
    "You have 75 minutes to complete this exam.\n",
    "\n",
    "Answer all the questions below in this notebook. You should insert as many cells into the notebook as you need. When you are finished, upload your finished notebook to Canvas. \n",
    "\n",
    "* You may use your notes and the Internet, but you cannot work with others.  \n",
    "* Import any packages you need to complete this exam.\n",
    "* Do not modify the data files. All data manipulation should happen in your code.\n",
    "\n",
    "**A word on plotting:** At this point in the course, I expect you to create graphically excellent visualizations. \n",
    "\n",
    "Remember, jupyter notebooks and python have lots of built in help facilities. "
   ]
  },
  {
   "cell_type": "markdown",
   "metadata": {},
   "source": [
    "## Question 0 (5 points): Last, First\n",
    " \n",
    "Replace 'Last, First' above with your actual name. Enter it as: last name, first name."
   ]
  },
  {
   "cell_type": "markdown",
   "metadata": {},
   "source": [
    "## Question 1 (15 points): Time series/APIs \n",
    "\n",
    "1. From FRED, retrieve the daily price of oil (DCOILWTICO).  \n",
    "2. Compute the average price of oil in 2020 and 2021. Print them out as: \n",
    "\n",
    "   \"The mean price per barrel of oil in 2020 is \\\\$xx.xx and in 2021 is $xx.xx.\""
   ]
  },
  {
   "cell_type": "code",
   "execution_count": 1,
   "metadata": {},
   "outputs": [
    {
     "name": "stdout",
     "output_type": "stream",
     "text": [
      "The mean price per barrel of oil in 2020 is $39.16 and in 2021 is $67.46.\n"
     ]
    }
   ],
   "source": [
    "import pandas as pd\n",
    "import matplotlib.pyplot as plt\n",
    "import seaborn as sns\n",
    "import pandas_datareader.data as web \n",
    "\n",
    "oil = web.DataReader('DCOILWTICO', 'fred', '2018-01-01')\n",
    "strout = 'The mean price per barrel of oil in 2020 is ${0:5.2f} and in 2021 is ${1:5.2f}.'\n",
    "print(strout.format(oil.loc['2020', 'DCOILWTICO'].mean(), oil.loc['2021', 'DCOILWTICO'].mean()))\n"
   ]
  },
  {
   "cell_type": "markdown",
   "metadata": {},
   "source": [
    "## Question 2A (15 points): Merging \n",
    "\n",
    "1. Load the files 'pl.csv' and 'nval.csv'. They contain the price index and nominal value added by U.S. industries for 2010&ndash;2020.\n",
    "2. Merge the two DataFrames together. \n",
    "3. In the merged DataFrame, compute real value added by industry:\n",
    "\n",
    "$$\\text{real value added} = \\frac{\\text{nominal value added}}{\\text{price index/100}}.$$\n",
    "\n",
    "4. Print out the top 2 rows of your DataFrame."
   ]
  },
  {
   "cell_type": "code",
   "execution_count": 2,
   "metadata": {},
   "outputs": [],
   "source": [
    "# Code to create the long files to use in the excercise.\n",
    "\n",
    "# nva = pd.read_csv('nva.csv', header=4)\n",
    "# nva = nva.rename(columns={'Unnamed: 1': 'ind'})\n",
    "# nva = nva.drop('Line', axis=1)\n",
    "# nva = nva.set_index('ind').stack().reset_index()\n",
    "# nva.columns=['ind', 'year', 'nva']\n",
    "# nva.to_csv('nval.csv', index=False)\n",
    "\n",
    "# p = pd.read_csv('p.csv', header=4)\n",
    "# p = p.rename(columns={'Unnamed: 1': 'ind'})\n",
    "# p = p.drop('Line', axis=1)\n",
    "# p = p.set_index('ind').stack().reset_index()\n",
    "# p.columns=['ind', 'year', 'p']\n",
    "# p.to_csv('pl.csv', index=False)"
   ]
  },
  {
   "cell_type": "code",
   "execution_count": 3,
   "metadata": {},
   "outputs": [
    {
     "data": {
      "text/html": [
       "<div>\n",
       "<style scoped>\n",
       "    .dataframe tbody tr th:only-of-type {\n",
       "        vertical-align: middle;\n",
       "    }\n",
       "\n",
       "    .dataframe tbody tr th {\n",
       "        vertical-align: top;\n",
       "    }\n",
       "\n",
       "    .dataframe thead th {\n",
       "        text-align: right;\n",
       "    }\n",
       "</style>\n",
       "<table border=\"1\" class=\"dataframe\">\n",
       "  <thead>\n",
       "    <tr style=\"text-align: right;\">\n",
       "      <th></th>\n",
       "      <th>ind</th>\n",
       "      <th>year</th>\n",
       "      <th>p</th>\n",
       "      <th>nva</th>\n",
       "      <th>rva</th>\n",
       "    </tr>\n",
       "  </thead>\n",
       "  <tbody>\n",
       "    <tr>\n",
       "      <th>0</th>\n",
       "      <td>Gross domestic product</td>\n",
       "      <td>2010</td>\n",
       "      <td>96.164</td>\n",
       "      <td>15049.0</td>\n",
       "      <td>15649.307433</td>\n",
       "    </tr>\n",
       "    <tr>\n",
       "      <th>1</th>\n",
       "      <td>Gross domestic product</td>\n",
       "      <td>2011</td>\n",
       "      <td>98.157</td>\n",
       "      <td>15599.7</td>\n",
       "      <td>15892.600630</td>\n",
       "    </tr>\n",
       "  </tbody>\n",
       "</table>\n",
       "</div>"
      ],
      "text/plain": [
       "                              ind  year       p      nva           rva\n",
       "0          Gross domestic product  2010  96.164  15049.0  15649.307433\n",
       "1          Gross domestic product  2011  98.157  15599.7  15892.600630"
      ]
     },
     "execution_count": 3,
     "metadata": {},
     "output_type": "execute_result"
    }
   ],
   "source": [
    "p = pd.read_csv('pl.csv')\n",
    "nva = pd.read_csv('nval.csv')\n",
    "ind = pd.merge(left=p, right=nva, on=['ind', 'year'], how='inner')\n",
    "ind['rva'] = ind['nva']/(ind['p']/100)\n",
    "ind = ind.sort_index()\n",
    "ind.to_csv('q2a_f21.csv', index=False)\n",
    "ind.head(2)"
   ]
  },
  {
   "cell_type": "markdown",
   "metadata": {},
   "source": [
    "## Question 2B (15 points): Indexing\n",
    "\n",
    "If you completed question 2A, use your results in this question. If not, use the file 'q2a_f21.csv' to complete this question.\n",
    "\n",
    "1. Report real value added for \"Utilities\" in 2015. \n",
    "2. Print it out as: \n",
    "\n",
    "   \"Real value added in utilities is xxx.xx billion dollars.\""
   ]
  },
  {
   "cell_type": "code",
   "execution_count": 4,
   "metadata": {},
   "outputs": [
    {
     "name": "stdout",
     "output_type": "stream",
     "text": [
      "Real value added in utilities is 266.36 billion dollars.\n"
     ]
    }
   ],
   "source": [
    "ind = pd.read_csv('q2a_f21.csv')\n",
    "\n",
    "ind['ind'] = ind['ind'].str.strip()\n",
    "ind = ind.set_index(['ind', 'year']).sort_index()\n",
    "\n",
    "strout = 'Real value added in utilities is {0:5.2f} billion dollars.'\n",
    "\n",
    "print(strout.format(ind.loc[('Utilities', 2015), 'rva'].values[0]))"
   ]
  },
  {
   "cell_type": "markdown",
   "metadata": {},
   "source": [
    "## Question 3 (15 points): Groupby/Plotting\n",
    "If you completed question 2A, use your results in this question. If not, use the file 'q2a_f21.csv' to complete this question.\n",
    "\n",
    "1. Compute the average real value added and the median real value added for each industry, 2010&ndash;2020.\n",
    "2. Drop 'Gross domestic product' and 'Private industries'. (If you have trouble dropping these industries, skip this step and go to step 3.)\n",
    "3. Create a scatter plot with a regression line. Average real value added by industry is the y-axis and median real value added by industry is the x-axis.\n",
    "    1. Use black for the scatter points and the line\n",
    "    1. Do not plot a confindence interval"
   ]
  },
  {
   "cell_type": "code",
   "execution_count": 5,
   "metadata": {},
   "outputs": [],
   "source": [
    "ind = pd.read_csv('q2a_f21.csv')\n",
    "ind['ind'] = ind['ind'].str.strip()\n",
    "\n",
    "ind_means = ind[['ind','rva']].groupby('ind').agg(['mean', 'median'])\n",
    "ind_means = ind_means.drop(['Gross domestic product', 'Private industries'])\n",
    "ind_means = ind_means.droplevel(level=0, axis=1)"
   ]
  },
  {
   "cell_type": "code",
   "execution_count": 6,
   "metadata": {},
   "outputs": [
    {
     "data": {
      "image/png": "[encoded data removed]",
      "text/plain": [
       "<Figure size 576x288 with 1 Axes>"
      ]
     },
     "metadata": {
      "needs_background": "light"
     },
     "output_type": "display_data"
    }
   ],
   "source": [
    "\n",
    "fig, ax = plt.subplots(figsize=(8,4))\n",
    "sns.regplot(data=ind_means, y='mean', x='median', color='black', ci=0)\n",
    "ax.set_ylabel('mean real value added (billions)')\n",
    "ax.set_xlabel('median real value added (billions)')\n",
    "sns.despine()"
   ]
  },
  {
   "cell_type": "markdown",
   "metadata": {},
   "source": [
    "## Question 4 (15 points): Reshaping \n",
    "\n",
    "The file 'wdi_q4.csv' contains data on real GDP and the working age population (15-64 years) for China and Japan from 1970 to 2019. \n",
    "\n",
    "1. Compute the ratio of GDP to the working age population for both countries for all years. Name the variable 'gdpc'.\n",
    "2. Arrange your DataFrame so that the index is the country (outermost index) and date (innermost index) and the columns are the variable names. Sort both of the indexes. \n",
    "3. Print out the first two rows of your DataFrame."
   ]
  },
  {
   "cell_type": "code",
   "execution_count": 7,
   "metadata": {},
   "outputs": [],
   "source": [
    "# Code to create wdi_q4.csv\n",
    "# wdi = pd.read_csv('wdi_e2.csv', index_col=['DATE', 'var', 'cty']).unstack(['cty'])\n",
    "# wdi = wdi.droplevel(level=0,axis=1)\n",
    "# wdi.columns\n",
    "# wdi.to_csv('wdi_q4.csv')\n",
    "# wdi.head()"
   ]
  },
  {
   "cell_type": "code",
   "execution_count": 8,
   "metadata": {},
   "outputs": [
    {
     "data": {
      "text/html": [
       "<div>\n",
       "<style scoped>\n",
       "    .dataframe tbody tr th:only-of-type {\n",
       "        vertical-align: middle;\n",
       "    }\n",
       "\n",
       "    .dataframe tbody tr th {\n",
       "        vertical-align: top;\n",
       "    }\n",
       "\n",
       "    .dataframe thead th {\n",
       "        text-align: right;\n",
       "    }\n",
       "</style>\n",
       "<table border=\"1\" class=\"dataframe\">\n",
       "  <thead>\n",
       "    <tr style=\"text-align: right;\">\n",
       "      <th></th>\n",
       "      <th>var</th>\n",
       "      <th>gdp</th>\n",
       "      <th>gdpc</th>\n",
       "      <th>pop</th>\n",
       "    </tr>\n",
       "    <tr>\n",
       "      <th></th>\n",
       "      <th>DATE</th>\n",
       "      <th></th>\n",
       "      <th></th>\n",
       "      <th></th>\n",
       "    </tr>\n",
       "  </thead>\n",
       "  <tbody>\n",
       "    <tr>\n",
       "      <th rowspan=\"2\" valign=\"top\">chn</th>\n",
       "      <th>1970-01-01</th>\n",
       "      <td>228.510558</td>\n",
       "      <td>4.091890</td>\n",
       "      <td>55.844752</td>\n",
       "    </tr>\n",
       "    <tr>\n",
       "      <th>1971-01-01</th>\n",
       "      <td>238.014715</td>\n",
       "      <td>4.268637</td>\n",
       "      <td>55.758953</td>\n",
       "    </tr>\n",
       "  </tbody>\n",
       "</table>\n",
       "</div>"
      ],
      "text/plain": [
       "var                    gdp      gdpc        pop\n",
       "    DATE                                       \n",
       "chn 1970-01-01  228.510558  4.091890  55.844752\n",
       "    1971-01-01  238.014715  4.268637  55.758953"
      ]
     },
     "execution_count": 8,
     "metadata": {},
     "output_type": "execute_result"
    }
   ],
   "source": [
    "wdi = pd.read_csv('wdi_q4.csv', index_col=['DATE', 'var'])\n",
    "wdi = wdi.stack()\n",
    "wdi = wdi.unstack('var')\n",
    "wdi.index = wdi.index.swaplevel()\n",
    "wdi['gdpc'] = wdi['gdp']/wdi['pop']\n",
    "wdi = wdi.sort_index()\n",
    "wdi = wdi.sort_index(axis=1)\n",
    "wdi.head(2)"
   ]
  },
  {
   "cell_type": "markdown",
   "metadata": {},
   "source": [
    "## Question 5 (15 points): Transformations\n",
    "\n",
    "Create the `dogs` DataFrame and use pandas funtions to:\n",
    "\n",
    "1. Remove the '\\n' characters from the dogs' names.\n",
    "3. Create a new column in `dogs` named `year` that holds the year in which each dog was born.\n",
    "4. In the column `sex`, replace 0 with the text 'good boy' and 1 with the text 'good girl'.\n",
    "5. Print out `dogs` \n",
    "\n",
    "```python\n",
    "dogs = pd.DataFrame({'name':['Buster\\n', 'Subee\\n', 'Jax', 'Izzy'], \n",
    "                     'dob':['2005-05-06', '2005-10-07', '2019-07-15', '2020-12-22'],\n",
    "                    'sex':[0,1,0,1]})\n",
    "```"
   ]
  },
  {
   "cell_type": "code",
   "execution_count": 9,
   "metadata": {},
   "outputs": [
    {
     "data": {
      "text/html": [
       "<div>\n",
       "<style scoped>\n",
       "    .dataframe tbody tr th:only-of-type {\n",
       "        vertical-align: middle;\n",
       "    }\n",
       "\n",
       "    .dataframe tbody tr th {\n",
       "        vertical-align: top;\n",
       "    }\n",
       "\n",
       "    .dataframe thead th {\n",
       "        text-align: right;\n",
       "    }\n",
       "</style>\n",
       "<table border=\"1\" class=\"dataframe\">\n",
       "  <thead>\n",
       "    <tr style=\"text-align: right;\">\n",
       "      <th></th>\n",
       "      <th>name</th>\n",
       "      <th>dob</th>\n",
       "      <th>sex</th>\n",
       "      <th>year</th>\n",
       "    </tr>\n",
       "  </thead>\n",
       "  <tbody>\n",
       "    <tr>\n",
       "      <th>0</th>\n",
       "      <td>Buster</td>\n",
       "      <td>2005-05-06</td>\n",
       "      <td>good boy</td>\n",
       "      <td>2005</td>\n",
       "    </tr>\n",
       "    <tr>\n",
       "      <th>1</th>\n",
       "      <td>Subee</td>\n",
       "      <td>2005-10-07</td>\n",
       "      <td>good girl</td>\n",
       "      <td>2005</td>\n",
       "    </tr>\n",
       "    <tr>\n",
       "      <th>2</th>\n",
       "      <td>Jax</td>\n",
       "      <td>2019-07-15</td>\n",
       "      <td>good boy</td>\n",
       "      <td>2019</td>\n",
       "    </tr>\n",
       "    <tr>\n",
       "      <th>3</th>\n",
       "      <td>Izzy</td>\n",
       "      <td>2020-12-22</td>\n",
       "      <td>good girl</td>\n",
       "      <td>2020</td>\n",
       "    </tr>\n",
       "  </tbody>\n",
       "</table>\n",
       "</div>"
      ],
      "text/plain": [
       "     name         dob        sex  year\n",
       "0  Buster  2005-05-06   good boy  2005\n",
       "1   Subee  2005-10-07  good girl  2005\n",
       "2     Jax  2019-07-15   good boy  2019\n",
       "3    Izzy  2020-12-22  good girl  2020"
      ]
     },
     "execution_count": 9,
     "metadata": {},
     "output_type": "execute_result"
    }
   ],
   "source": [
    "dogs = pd.DataFrame({'name':['Buster\\n', 'Subee\\n', 'Jax', 'Izzy'], \n",
    "                     'dob':['2005-05-06', '2005-10-07', '2019-07-15', '2020-12-22'],\n",
    "                    'sex':[0,1,0,1]})\n",
    "\n",
    "dogs['name'] = dogs['name'].str.strip('\\n')\n",
    "dogs['year'] = dogs['dob'].str.slice(0,4)\n",
    "dogs['sex'] = dogs['sex'].replace({0:'good boy', 1:'good girl'})\n",
    "dogs"
   ]
  },
  {
   "cell_type": "markdown",
   "metadata": {},
   "source": [
    "You are finished! Upload your completed notebook to Canvas. \n",
    "\n",
    "Enjoy the break, and I will see you next Monday."
   ]
  }
 ],
 "metadata": {
  "celltoolbar": "Edit Metadata",
  "hide_input": false,
  "kernelspec": {
   "display_name": "Python 3",
   "language": "python",
   "name": "python3"
  },
  "language_info": {
   "codemirror_mode": {
    "name": "ipython",
    "version": 3
   },
   "file_extension": ".py",
   "mimetype": "text/x-python",
   "name": "python",
   "nbconvert_exporter": "python",
   "pygments_lexer": "ipython3",
   "version": "3.8.8"
  }
 },
 "nbformat": 4,
 "nbformat_minor": 4
}
