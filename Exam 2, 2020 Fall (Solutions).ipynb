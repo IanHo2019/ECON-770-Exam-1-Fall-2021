{
 "cells": [
  {
   "cell_type": "markdown",
   "metadata": {},
   "source": [
    "# Exam 2 (100 pts total)\n",
    "\n",
    "files needed = ('covid.csv', 'wdi_e2.csv', 'clubs.csv', 'roster.csv', 'q2a.csv')\n",
    "\n",
    "You have 75 minutes to complete this exam.\n",
    "\n",
    "Answer all the questions below in this notebook. You should insert as many cells into the notebook as you need. When you are finished, upload your finished notebook to Canvas. \n",
    "\n",
    "* You may use your notes and the Internet, but you cannot work with others.  \n",
    "* Import any packages you need to complete this exam.\n",
    "* Do not modify the data files. All data manipulation should happen in your code.\n",
    "\n",
    "Remember, jupyter notebooks and python have lots of built in help facilities. "
   ]
  },
  {
   "cell_type": "code",
   "execution_count": 1,
   "metadata": {},
   "outputs": [],
   "source": [
    "import pandas as pd\n",
    "import matplotlib.pyplot as plt\n",
    "import matplotlib.dates as mdates\n",
    "import seaborn as sns\n",
    "import pandas_datareader.data as web"
   ]
  },
  {
   "cell_type": "markdown",
   "metadata": {},
   "source": [
    "## Question 0 (5 pts): Ruhl, Kim\n",
    " \n",
    "Replace 'Last, First' above with your actual name. Enter it as: last name, first name."
   ]
  },
  {
   "cell_type": "markdown",
   "metadata": {},
   "source": [
    "## Question 1 (5 points): Saving figures \n",
    "\n",
    "1. If you are saving a file to use on a website or to embed in a MS Word document which format should you use? Why?\n",
    "\n",
    "Insert a cell below and type your answer there. "
   ]
  },
  {
   "cell_type": "code",
   "execution_count": 2,
   "metadata": {},
   "outputs": [],
   "source": [
    "# When creating a file for use in a Word or web format, use the \"scalable vector graphics\" (SVG) file format. \n",
    "# When saved as an SVG, the figure will scale as the user zooms in or zooms out reaming clear. \n",
    "# A figured saved as a PNG, for example, will become blurry when a user zooms in.    "
   ]
  },
  {
   "cell_type": "markdown",
   "metadata": {},
   "source": [
    "## Question 2A (10 pts): Apply-split-combine\n",
    "\n",
    "The file 'covid.csv' contains data on covid tests in Wisconsin by county. Each observation in the data is a county-day. The data cover March 15, 2020 to November 16, 2020.\n",
    "\n",
    "1. The `POS_NEW` variable contains the day's new cases. Use this variable to compute the **cumulative** number of cases in each county. \n",
    "2. Sort your results by county name (a to z) and print out the first three counties."
   ]
  },
  {
   "cell_type": "code",
   "execution_count": 3,
   "metadata": {},
   "outputs": [
    {
     "data": {
      "text/html": [
       "<div>\n",
       "<style scoped>\n",
       "    .dataframe tbody tr th:only-of-type {\n",
       "        vertical-align: middle;\n",
       "    }\n",
       "\n",
       "    .dataframe tbody tr th {\n",
       "        vertical-align: top;\n",
       "    }\n",
       "\n",
       "    .dataframe thead th {\n",
       "        text-align: right;\n",
       "    }\n",
       "</style>\n",
       "<table border=\"1\" class=\"dataframe\">\n",
       "  <thead>\n",
       "    <tr style=\"text-align: right;\">\n",
       "      <th></th>\n",
       "      <th>GEOID</th>\n",
       "      <th>GEO</th>\n",
       "      <th>NAME</th>\n",
       "      <th>DATE</th>\n",
       "      <th>POSITIVE</th>\n",
       "      <th>POS_NEW</th>\n",
       "      <th>POS_7DAYAVG</th>\n",
       "      <th>NEGATIVE</th>\n",
       "      <th>NEG_NEW</th>\n",
       "      <th>NEG_7DAYAVG</th>\n",
       "      <th>...</th>\n",
       "      <th>DTH_WHT</th>\n",
       "      <th>DTH_MLTOTH</th>\n",
       "      <th>DTH_UNK</th>\n",
       "      <th>DTH_E_HSP</th>\n",
       "      <th>DTH_E_NHSP</th>\n",
       "      <th>DTH_E_UNK</th>\n",
       "      <th>POS_HC_Y</th>\n",
       "      <th>POS_HC_N</th>\n",
       "      <th>POS_HC_UNK</th>\n",
       "      <th>OBJECTID</th>\n",
       "    </tr>\n",
       "  </thead>\n",
       "  <tbody>\n",
       "    <tr>\n",
       "      <th>0</th>\n",
       "      <td>55001</td>\n",
       "      <td>County</td>\n",
       "      <td>Adams</td>\n",
       "      <td>2020-03-15 19:00:00+00:00</td>\n",
       "      <td>0</td>\n",
       "      <td>NaN</td>\n",
       "      <td>NaN</td>\n",
       "      <td>NaN</td>\n",
       "      <td>NaN</td>\n",
       "      <td>NaN</td>\n",
       "      <td>...</td>\n",
       "      <td>NaN</td>\n",
       "      <td>NaN</td>\n",
       "      <td>NaN</td>\n",
       "      <td>NaN</td>\n",
       "      <td>NaN</td>\n",
       "      <td>NaN</td>\n",
       "      <td>NaN</td>\n",
       "      <td>NaN</td>\n",
       "      <td>NaN</td>\n",
       "      <td>2</td>\n",
       "    </tr>\n",
       "    <tr>\n",
       "      <th>1</th>\n",
       "      <td>55003</td>\n",
       "      <td>County</td>\n",
       "      <td>Ashland</td>\n",
       "      <td>2020-03-15 19:00:00+00:00</td>\n",
       "      <td>0</td>\n",
       "      <td>NaN</td>\n",
       "      <td>NaN</td>\n",
       "      <td>NaN</td>\n",
       "      <td>NaN</td>\n",
       "      <td>NaN</td>\n",
       "      <td>...</td>\n",
       "      <td>NaN</td>\n",
       "      <td>NaN</td>\n",
       "      <td>NaN</td>\n",
       "      <td>NaN</td>\n",
       "      <td>NaN</td>\n",
       "      <td>NaN</td>\n",
       "      <td>NaN</td>\n",
       "      <td>NaN</td>\n",
       "      <td>NaN</td>\n",
       "      <td>3</td>\n",
       "    </tr>\n",
       "  </tbody>\n",
       "</table>\n",
       "<p>2 rows × 66 columns</p>\n",
       "</div>"
      ],
      "text/plain": [
       "   GEOID     GEO     NAME                      DATE  POSITIVE  POS_NEW  \\\n",
       "0  55001  County    Adams 2020-03-15 19:00:00+00:00         0      NaN   \n",
       "1  55003  County  Ashland 2020-03-15 19:00:00+00:00         0      NaN   \n",
       "\n",
       "   POS_7DAYAVG  NEGATIVE  NEG_NEW  NEG_7DAYAVG  ...  DTH_WHT  DTH_MLTOTH  \\\n",
       "0          NaN       NaN      NaN          NaN  ...      NaN         NaN   \n",
       "1          NaN       NaN      NaN          NaN  ...      NaN         NaN   \n",
       "\n",
       "   DTH_UNK  DTH_E_HSP  DTH_E_NHSP  DTH_E_UNK  POS_HC_Y  POS_HC_N  POS_HC_UNK  \\\n",
       "0      NaN        NaN         NaN        NaN       NaN       NaN         NaN   \n",
       "1      NaN        NaN         NaN        NaN       NaN       NaN         NaN   \n",
       "\n",
       "   OBJECTID  \n",
       "0         2  \n",
       "1         3  \n",
       "\n",
       "[2 rows x 66 columns]"
      ]
     },
     "execution_count": 3,
     "metadata": {},
     "output_type": "execute_result"
    }
   ],
   "source": [
    "c19 = pd.read_csv('covid.csv', parse_dates=['DATE'])\n",
    "c19.head(2)"
   ]
  },
  {
   "cell_type": "code",
   "execution_count": 4,
   "metadata": {},
   "outputs": [
    {
     "data": {
      "text/html": [
       "<div>\n",
       "<style scoped>\n",
       "    .dataframe tbody tr th:only-of-type {\n",
       "        vertical-align: middle;\n",
       "    }\n",
       "\n",
       "    .dataframe tbody tr th {\n",
       "        vertical-align: top;\n",
       "    }\n",
       "\n",
       "    .dataframe thead th {\n",
       "        text-align: right;\n",
       "    }\n",
       "</style>\n",
       "<table border=\"1\" class=\"dataframe\">\n",
       "  <thead>\n",
       "    <tr style=\"text-align: right;\">\n",
       "      <th></th>\n",
       "      <th>POS_NEW</th>\n",
       "    </tr>\n",
       "    <tr>\n",
       "      <th>NAME</th>\n",
       "      <th></th>\n",
       "    </tr>\n",
       "  </thead>\n",
       "  <tbody>\n",
       "    <tr>\n",
       "      <th>Adams</th>\n",
       "      <td>852.0</td>\n",
       "    </tr>\n",
       "    <tr>\n",
       "      <th>Ashland</th>\n",
       "      <td>514.0</td>\n",
       "    </tr>\n",
       "    <tr>\n",
       "      <th>Barron</th>\n",
       "      <td>2721.0</td>\n",
       "    </tr>\n",
       "  </tbody>\n",
       "</table>\n",
       "</div>"
      ],
      "text/plain": [
       "         POS_NEW\n",
       "NAME            \n",
       "Adams      852.0\n",
       "Ashland    514.0\n",
       "Barron    2721.0"
      ]
     },
     "execution_count": 4,
     "metadata": {},
     "output_type": "execute_result"
    }
   ],
   "source": [
    "cases_cum = c19[['NAME', 'POS_NEW']].groupby('NAME').sum().sort_index()\n",
    "cases_cum.to_csv('q2a.csv', index_label='NAME')\n",
    "cases_cum.head(3)"
   ]
  },
  {
   "cell_type": "markdown",
   "metadata": {},
   "source": [
    "## Question 2B (15 pts): Bar graphs and label formatting \n",
    "\n",
    "If you completed question 2A, use your results in this question. If not, use the file 'q2a.csv' to complete this question.\n",
    "\n",
    "1. Create two subplots arranged as one column and two rows make the figure size 15 inches by 15 inches. \n",
    "3. In the top subplot, create a bar plot of the cumulative cases for the counties whose names start with A-L. The x axis should be the names of the counties.\n",
    "4. In the bottom subplot, create a bar plot of the cumulative cases for the counties whose names start with M-Z. The x axis should be the names of the counties.\n",
    "5. Rotate the county names on the x axis 90 degrees so that they are vertical.\n",
    "6. Label the y axes 'cumulative number of cases.'\n",
    "7. The bars should be silver and the major y-axis grid lines should be white.\n",
    "8. Give your graph a title.\n",
    "9. Remove the top and right spines from each subplot. "
   ]
  },
  {
   "cell_type": "code",
   "execution_count": 5,
   "metadata": {},
   "outputs": [],
   "source": [
    "# If needed:\n",
    "cases_cum = pd.read_csv('q2a.csv')\n",
    "cases_cum = cases_cum.set_index('NAME')\n",
    "\n",
    "low = cases_cum[cases_cum.index.str.slice(0,1) <= 'L']\n",
    "high = cases_cum[cases_cum.index.str.slice(0,1) > 'L']"
   ]
  },
  {
   "cell_type": "code",
   "execution_count": 6,
   "metadata": {},
   "outputs": [
    {
     "data": {
      "image/png": "[encoded data removed]",
      "text/plain": [
       "<Figure size 1080x1080 with 2 Axes>"
      ]
     },
     "metadata": {
      "needs_background": "light"
     },
     "output_type": "display_data"
    }
   ],
   "source": [
    "fig, ax = plt.subplots(2, 1, figsize=(15,15))\n",
    "\n",
    "ax[0].bar(low.index, low['POS_NEW'], color='silver')\n",
    "ax[1].bar(high.index, high['POS_NEW'], color='silver')\n",
    "\n",
    "ax[0].set_title('Cumulative COVID-19 cases in Wisconsin (November 16, 2020)')\n",
    "\n",
    "for a in ax:\n",
    "    a.tick_params(axis='x', labelrotation=90)\n",
    "    a.set_ylabel('cumulative number of cases')\n",
    "    a.grid(color='white', axis='y')\n",
    "    sns.despine(ax=a)"
   ]
  },
  {
   "cell_type": "markdown",
   "metadata": {},
   "source": [
    "## Question 3 (15 pts): Dates\n",
    "\n",
    "We continue to work with the file 'covid.csv'.\n",
    "\n",
    "1. Create a new DataFrame from the file and keep only Dane county's data.\n",
    "2. Compute the 14-day rolling average of new cases, the `POS_NEW` variable.\n",
    "3. Create a figure and plot both the `POS_NEW` **and** the 14-day average. This is two variables plotted on one set of axes.\n",
    "4. Make the 14-day average red. Make the daily data red with an alpha of 0.5.\n",
    "5. The x-axis labels should be formatted as 'abc xx' where abc is the 3-digit month code and xx is the day, e.g., 'Nov 16'. \n",
    "6. Add titles, etc to make the figure informative. "
   ]
  },
  {
   "cell_type": "code",
   "execution_count": 7,
   "metadata": {},
   "outputs": [
    {
     "data": {
      "text/plain": [
       "(247, 65)"
      ]
     },
     "execution_count": 7,
     "metadata": {},
     "output_type": "execute_result"
    }
   ],
   "source": [
    "dane = c19[c19['NAME']=='Dane'].copy()\n",
    "dane = dane.set_index('DATE')\n",
    "dane = dane.sort_index()\n",
    "dane.shape"
   ]
  },
  {
   "cell_type": "code",
   "execution_count": 8,
   "metadata": {},
   "outputs": [
    {
     "data": {
      "text/plain": [
       "DATE\n",
       "2020-03-15 19:00:00+00:00   NaN\n",
       "2020-03-16 19:00:00+00:00   NaN\n",
       "Name: POS_NEW, dtype: float64"
      ]
     },
     "execution_count": 8,
     "metadata": {},
     "output_type": "execute_result"
    }
   ],
   "source": [
    "dane14 = dane['POS_NEW'].rolling(14).mean()\n",
    "dane14.head(2)"
   ]
  },
  {
   "cell_type": "code",
   "execution_count": 9,
   "metadata": {},
   "outputs": [
    {
     "data": {
      "image/png": "[encoded data removed]",
      "text/plain": [
       "<Figure size 864x432 with 1 Axes>"
      ]
     },
     "metadata": {
      "needs_background": "light"
     },
     "output_type": "display_data"
    }
   ],
   "source": [
    "fig, ax = plt.subplots(figsize=(12,6))\n",
    "\n",
    "ax.plot(dane.index, dane['POS_NEW'], color='red', alpha=0.5, label='new cases')\n",
    "ax.plot(dane14.index, dane14, color='red', label='14-day average')\n",
    "\n",
    "ax.set_ylabel('number of new positive cases')\n",
    "ax.set_title('New COVID-19 cases in Dane County, WI')\n",
    "\n",
    "ax.xaxis.set_major_formatter(mdates.DateFormatter(\"%b %d\"))\n",
    "ax.legend(frameon=False)\n",
    "sns.despine()\n",
    "\n",
    "plt.show()"
   ]
  },
  {
   "cell_type": "markdown",
   "metadata": {},
   "source": [
    "## Question 4 (15 pts): Long and wide data\n",
    "\n",
    "The file 'wdi_e2.csv' contains data on real GDP and the working age population (15-64 years) for China and Japan from 1970 to 2019. \n",
    "\n",
    "1. Compute the ratio of GDP to the working age population for both countries for all years. Name the variable 'gdpc'.\n",
    "2. Arrange your DataFrame so that the index is the date and the column multiIndex has 'cty' at the highest level and 'var' the second highest. Sort the indexes. \n",
    "3. Print out the first two rows of your DataFrame."
   ]
  },
  {
   "cell_type": "code",
   "execution_count": 10,
   "metadata": {},
   "outputs": [
    {
     "data": {
      "text/html": [
       "<div>\n",
       "<style scoped>\n",
       "    .dataframe tbody tr th:only-of-type {\n",
       "        vertical-align: middle;\n",
       "    }\n",
       "\n",
       "    .dataframe tbody tr th {\n",
       "        vertical-align: top;\n",
       "    }\n",
       "\n",
       "    .dataframe thead th {\n",
       "        text-align: right;\n",
       "    }\n",
       "</style>\n",
       "<table border=\"1\" class=\"dataframe\">\n",
       "  <thead>\n",
       "    <tr style=\"text-align: right;\">\n",
       "      <th></th>\n",
       "      <th></th>\n",
       "      <th></th>\n",
       "      <th>value</th>\n",
       "    </tr>\n",
       "    <tr>\n",
       "      <th>var</th>\n",
       "      <th>DATE</th>\n",
       "      <th>cty</th>\n",
       "      <th></th>\n",
       "    </tr>\n",
       "  </thead>\n",
       "  <tbody>\n",
       "    <tr>\n",
       "      <th rowspan=\"2\" valign=\"top\">gdp</th>\n",
       "      <th rowspan=\"2\" valign=\"top\">1970-01-01</th>\n",
       "      <th>chn</th>\n",
       "      <td>228.510558</td>\n",
       "    </tr>\n",
       "    <tr>\n",
       "      <th>jpn</th>\n",
       "      <td>18699.742958</td>\n",
       "    </tr>\n",
       "  </tbody>\n",
       "</table>\n",
       "</div>"
      ],
      "text/plain": [
       "                           value\n",
       "var DATE       cty              \n",
       "gdp 1970-01-01 chn    228.510558\n",
       "               jpn  18699.742958"
      ]
     },
     "execution_count": 10,
     "metadata": {},
     "output_type": "execute_result"
    }
   ],
   "source": [
    "wdi = pd.read_csv('wdi_e2.csv')\n",
    "wdi = wdi.set_index(['var', 'DATE', 'cty'])\n",
    "wdi.head(2)"
   ]
  },
  {
   "cell_type": "code",
   "execution_count": 11,
   "metadata": {},
   "outputs": [
    {
     "data": {
      "text/html": [
       "<div>\n",
       "<style scoped>\n",
       "    .dataframe tbody tr th:only-of-type {\n",
       "        vertical-align: middle;\n",
       "    }\n",
       "\n",
       "    .dataframe tbody tr th {\n",
       "        vertical-align: top;\n",
       "    }\n",
       "\n",
       "    .dataframe thead tr th {\n",
       "        text-align: left;\n",
       "    }\n",
       "\n",
       "    .dataframe thead tr:last-of-type th {\n",
       "        text-align: right;\n",
       "    }\n",
       "</style>\n",
       "<table border=\"1\" class=\"dataframe\">\n",
       "  <thead>\n",
       "    <tr>\n",
       "      <th></th>\n",
       "      <th></th>\n",
       "      <th colspan=\"2\" halign=\"left\">value</th>\n",
       "    </tr>\n",
       "    <tr>\n",
       "      <th></th>\n",
       "      <th>var</th>\n",
       "      <th>gdp</th>\n",
       "      <th>pop</th>\n",
       "    </tr>\n",
       "    <tr>\n",
       "      <th>DATE</th>\n",
       "      <th>cty</th>\n",
       "      <th></th>\n",
       "      <th></th>\n",
       "    </tr>\n",
       "  </thead>\n",
       "  <tbody>\n",
       "    <tr>\n",
       "      <th rowspan=\"2\" valign=\"top\">1970-01-01</th>\n",
       "      <th>chn</th>\n",
       "      <td>228.510558</td>\n",
       "      <td>55.844752</td>\n",
       "    </tr>\n",
       "    <tr>\n",
       "      <th>jpn</th>\n",
       "      <td>18699.742958</td>\n",
       "      <td>69.010653</td>\n",
       "    </tr>\n",
       "  </tbody>\n",
       "</table>\n",
       "</div>"
      ],
      "text/plain": [
       "                       value           \n",
       "var                      gdp        pop\n",
       "DATE       cty                         \n",
       "1970-01-01 chn    228.510558  55.844752\n",
       "           jpn  18699.742958  69.010653"
      ]
     },
     "execution_count": 11,
     "metadata": {},
     "output_type": "execute_result"
    }
   ],
   "source": [
    "wdi = wdi.unstack(['var'])\n",
    "wdi.head(2)"
   ]
  },
  {
   "cell_type": "code",
   "execution_count": 12,
   "metadata": {},
   "outputs": [
    {
     "data": {
      "text/html": [
       "<div>\n",
       "<style scoped>\n",
       "    .dataframe tbody tr th:only-of-type {\n",
       "        vertical-align: middle;\n",
       "    }\n",
       "\n",
       "    .dataframe tbody tr th {\n",
       "        vertical-align: top;\n",
       "    }\n",
       "\n",
       "    .dataframe thead th {\n",
       "        text-align: right;\n",
       "    }\n",
       "</style>\n",
       "<table border=\"1\" class=\"dataframe\">\n",
       "  <thead>\n",
       "    <tr style=\"text-align: right;\">\n",
       "      <th></th>\n",
       "      <th>var</th>\n",
       "      <th>gdp</th>\n",
       "      <th>pop</th>\n",
       "      <th>gdpc</th>\n",
       "    </tr>\n",
       "    <tr>\n",
       "      <th>DATE</th>\n",
       "      <th>cty</th>\n",
       "      <th></th>\n",
       "      <th></th>\n",
       "      <th></th>\n",
       "    </tr>\n",
       "  </thead>\n",
       "  <tbody>\n",
       "    <tr>\n",
       "      <th rowspan=\"2\" valign=\"top\">1970-01-01</th>\n",
       "      <th>chn</th>\n",
       "      <td>228.510558</td>\n",
       "      <td>55.844752</td>\n",
       "      <td>4.091890</td>\n",
       "    </tr>\n",
       "    <tr>\n",
       "      <th>jpn</th>\n",
       "      <td>18699.742958</td>\n",
       "      <td>69.010653</td>\n",
       "      <td>270.968933</td>\n",
       "    </tr>\n",
       "  </tbody>\n",
       "</table>\n",
       "</div>"
      ],
      "text/plain": [
       "var                      gdp        pop        gdpc\n",
       "DATE       cty                                     \n",
       "1970-01-01 chn    228.510558  55.844752    4.091890\n",
       "           jpn  18699.742958  69.010653  270.968933"
      ]
     },
     "execution_count": 12,
     "metadata": {},
     "output_type": "execute_result"
    }
   ],
   "source": [
    "# You can leave the 'value' level and then add 'value' in all of the variable names, e.g., ('value', 'gdp')\n",
    "wdi.columns = wdi.columns.droplevel(0)\n",
    "wdi['gdpc'] = wdi['gdp'] / wdi['pop']\n",
    "wdi.head(2)"
   ]
  },
  {
   "cell_type": "code",
   "execution_count": 13,
   "metadata": {},
   "outputs": [
    {
     "data": {
      "text/html": [
       "<div>\n",
       "<style scoped>\n",
       "    .dataframe tbody tr th:only-of-type {\n",
       "        vertical-align: middle;\n",
       "    }\n",
       "\n",
       "    .dataframe tbody tr th {\n",
       "        vertical-align: top;\n",
       "    }\n",
       "\n",
       "    .dataframe thead tr th {\n",
       "        text-align: left;\n",
       "    }\n",
       "\n",
       "    .dataframe thead tr:last-of-type th {\n",
       "        text-align: right;\n",
       "    }\n",
       "</style>\n",
       "<table border=\"1\" class=\"dataframe\">\n",
       "  <thead>\n",
       "    <tr>\n",
       "      <th>cty</th>\n",
       "      <th colspan=\"3\" halign=\"left\">chn</th>\n",
       "      <th colspan=\"3\" halign=\"left\">jpn</th>\n",
       "    </tr>\n",
       "    <tr>\n",
       "      <th>var</th>\n",
       "      <th>gdp</th>\n",
       "      <th>gdpc</th>\n",
       "      <th>pop</th>\n",
       "      <th>gdp</th>\n",
       "      <th>gdpc</th>\n",
       "      <th>pop</th>\n",
       "    </tr>\n",
       "    <tr>\n",
       "      <th>DATE</th>\n",
       "      <th></th>\n",
       "      <th></th>\n",
       "      <th></th>\n",
       "      <th></th>\n",
       "      <th></th>\n",
       "      <th></th>\n",
       "    </tr>\n",
       "  </thead>\n",
       "  <tbody>\n",
       "    <tr>\n",
       "      <th>1970-01-01</th>\n",
       "      <td>228.510558</td>\n",
       "      <td>4.091890</td>\n",
       "      <td>55.844752</td>\n",
       "      <td>18699.742958</td>\n",
       "      <td>270.968933</td>\n",
       "      <td>69.010653</td>\n",
       "    </tr>\n",
       "    <tr>\n",
       "      <th>1971-01-01</th>\n",
       "      <td>238.014715</td>\n",
       "      <td>4.268637</td>\n",
       "      <td>55.758953</td>\n",
       "      <td>19328.009038</td>\n",
       "      <td>280.442038</td>\n",
       "      <td>68.919799</td>\n",
       "    </tr>\n",
       "  </tbody>\n",
       "</table>\n",
       "</div>"
      ],
      "text/plain": [
       "cty                chn                                jpn              \\\n",
       "var                gdp      gdpc        pop           gdp        gdpc   \n",
       "DATE                                                                    \n",
       "1970-01-01  228.510558  4.091890  55.844752  18699.742958  270.968933   \n",
       "1971-01-01  238.014715  4.268637  55.758953  19328.009038  280.442038   \n",
       "\n",
       "cty                    \n",
       "var               pop  \n",
       "DATE                   \n",
       "1970-01-01  69.010653  \n",
       "1971-01-01  68.919799  "
      ]
     },
     "execution_count": 13,
     "metadata": {},
     "output_type": "execute_result"
    }
   ],
   "source": [
    "wdi = wdi.unstack('cty')\n",
    "wdi.index = pd.to_datetime(wdi.index)\n",
    "wdi = wdi.swaplevel(i='var', j='cty', axis=1).sort_index(axis=1)\n",
    "wdi.head(2)"
   ]
  },
  {
   "cell_type": "markdown",
   "metadata": {},
   "source": [
    "## Question 6 (10 pts): FRED and working with dates\n",
    "\n",
    "1. Download the weekly initial (unemployment) claims data for Wisconsin from FRED. Get the data from the beginning of 2019 to the most recent. \\[Use the FRED website to find the variable code.\\]\n",
    "2. Compute the average weekly claims for 2019 and 2020. Print them out as below, replacing the xs with the appropriate numbers.\n",
    "\n",
    "   The 2019 average weekly claims are xxxx. The 2020 average weekly claims are xxxxx.\n",
    "  \n",
    "Note that the numbers are printed out as integers. "
   ]
  },
  {
   "cell_type": "code",
   "execution_count": 14,
   "metadata": {},
   "outputs": [],
   "source": [
    "claims = web.DataReader('WIICLAIMS', 'fred', start='2019-01-01') "
   ]
  },
  {
   "cell_type": "code",
   "execution_count": 15,
   "metadata": {},
   "outputs": [],
   "source": [
    "# Two ways to do this. \n",
    "\n",
    "# 1. Slice\n",
    "claims19 = claims.loc['2019-01-01':'2019-12-31'].mean()\n",
    "claims20 = claims.loc['2020-01-01':'2020-12-31'].mean()\n",
    "\n",
    "# 2. Groupby!\n",
    "means = claims.groupby(claims.index.year).mean()"
   ]
  },
  {
   "cell_type": "code",
   "execution_count": 16,
   "metadata": {},
   "outputs": [
    {
     "name": "stdout",
     "output_type": "stream",
     "text": [
      "The 2019 average weekly claims are 5520. The 2020 average weekly claims are 23129.\n"
     ]
    }
   ],
   "source": [
    "print('The 2019 average weekly claims are {0:.0f}. The 2020 average weekly claims are {1:.0f}.'\n",
    "      .format(float(means.loc[2019]), float(means.loc[2020])))"
   ]
  },
  {
   "cell_type": "markdown",
   "metadata": {},
   "source": [
    "You are done! \n",
    "\n",
    "This is last year's exam. That exam period was 15-minutes longer than our exam this year. I have removed question 5 from the exam to make the length about right for our exam length. I included question 5 at the end of the exam so that you can use if for practice. "
   ]
  },
  {
   "cell_type": "markdown",
   "metadata": {},
   "source": [
    "## Question 5 (20 pts): Merging and cleaning\n",
    "\n",
    "1. Load 'clubs.csv' into a DataFrame named `clubs`. The file contains data about four BIG10 schools. \n",
    "2. Load 'roster.csv' into a DataFrame named `roster`. The file contains data about football players at four BIG10 schools.\n",
    "3. Merge the two DataFrames. The new DataFrame should contain all the players that are in the players dataset, matched to their team information.  Name the new DataFrame `data`. \n",
    "4. How many matches do you have? Print out the number as \"There are xx matches in data.\"\n",
    "5. There *should* be 50 matches but you probably found fewer. Let's fix this. Clean up the `clubs` and `roster` DataFrames using pandas commands (do not modify the data files) and perform another merge. Name this new matched DataFrame `data_clean`.\n",
    "6. Print out the number as \"There are xx matches in data_clean.\" (The xx should be equal to 50 at this point!)"
   ]
  },
  {
   "cell_type": "code",
   "execution_count": 17,
   "metadata": {},
   "outputs": [
    {
     "name": "stdout",
     "output_type": "stream",
     "text": [
      "   team   mascot      city state\n",
      "0   wis   badger   Madison    WI\n",
      "1   nwn  wildcat  Evanston    IL\n",
      "   NUMBER          NAME POSITION  WEIGHT CLASS TEAM\n",
      "0      17     Jack Coan       QB     221    Jr  wis\n",
      "1       5  Graham Mertz       QB     215    Fr  wis\n"
     ]
    }
   ],
   "source": [
    "clubs = pd.read_csv('clubs.csv')\n",
    "roster = pd.read_csv('roster.csv')\n",
    "print(clubs.head(2))\n",
    "print(roster.head(2))"
   ]
  },
  {
   "cell_type": "code",
   "execution_count": 18,
   "metadata": {},
   "outputs": [
    {
     "name": "stdout",
     "output_type": "stream",
     "text": [
      "There are 25 matches in data.\n"
     ]
    }
   ],
   "source": [
    "data = pd.merge(left=clubs, right=roster, left_on='team', right_on='TEAM', how='outer', indicator=True)\n",
    "print('There are {} matches in data.'.format(data['_merge'].value_counts().loc['both']))"
   ]
  },
  {
   "cell_type": "code",
   "execution_count": 19,
   "metadata": {},
   "outputs": [
    {
     "data": {
      "text/plain": [
       "array([' wis', 'nwn', 'umi ', 'umn', 'msu'], dtype=object)"
      ]
     },
     "execution_count": 19,
     "metadata": {},
     "output_type": "execute_result"
    }
   ],
   "source": [
    "# Extra whitespace!\n",
    "clubs['team'].unique()"
   ]
  },
  {
   "cell_type": "code",
   "execution_count": 20,
   "metadata": {},
   "outputs": [
    {
     "data": {
      "text/plain": [
       "array(['wis', 'wis ', 'umn', 'umi', 'umi ', 'nwn', 'utah'], dtype=object)"
      ]
     },
     "execution_count": 20,
     "metadata": {},
     "output_type": "execute_result"
    }
   ],
   "source": [
    "# Extra whitespace!\n",
    "roster['TEAM'].unique()"
   ]
  },
  {
   "cell_type": "code",
   "execution_count": 21,
   "metadata": {},
   "outputs": [],
   "source": [
    "# Remove the extra whitespace.\n",
    "clubs['team'] = clubs['team'].str.strip()\n",
    "roster['TEAM'] = roster['TEAM'].str.strip()"
   ]
  },
  {
   "cell_type": "code",
   "execution_count": 22,
   "metadata": {},
   "outputs": [
    {
     "name": "stdout",
     "output_type": "stream",
     "text": [
      "There are 50 matches in data_clean.\n"
     ]
    }
   ],
   "source": [
    "data_clean = pd.merge(left=clubs, right=roster, left_on='team', right_on='TEAM', how='outer', indicator=True)\n",
    "print('There are {} matches in data_clean.'.format(data_clean['_merge'].value_counts().loc['both']))"
   ]
  }
 ],
 "metadata": {
  "celltoolbar": "Edit Metadata",
  "hide_input": false,
  "kernelspec": {
   "display_name": "Python 3 (ipykernel)",
   "language": "python",
   "name": "python3"
  },
  "language_info": {
   "codemirror_mode": {
    "name": "ipython",
    "version": 3
   },
   "file_extension": ".py",
   "mimetype": "text/x-python",
   "name": "python",
   "nbconvert_exporter": "python",
   "pygments_lexer": "ipython3",
   "version": "3.9.7"
  }
 },
 "nbformat": 4,
 "nbformat_minor": 4
}
